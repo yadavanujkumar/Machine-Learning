{
 "cells": [
  {
   "cell_type": "markdown",
   "id": "5ce773c5",
   "metadata": {},
   "source": [
    "# write a program to solve binary classififaction using svm, and also find the optimum kernel for solving problem"
   ]
  },
  {
   "cell_type": "code",
   "execution_count": 34,
   "id": "1afdf6bf",
   "metadata": {},
   "outputs": [],
   "source": [
    "from sklearn.datasets import load_breast_cancer\n",
    "from sklearn.svm import SVC\n",
    "from sklearn.metrics import accuracy_score\n",
    "from sklearn.model_selection import train_test_split"
   ]
  },
  {
   "cell_type": "code",
   "execution_count": 35,
   "id": "0cd2480a",
   "metadata": {},
   "outputs": [],
   "source": [
    "cancer = load_breast_cancer()"
   ]
  },
  {
   "cell_type": "code",
   "execution_count": 36,
   "id": "ceb61c91",
   "metadata": {},
   "outputs": [],
   "source": [
    "X,y = cancer.data,cancer.target"
   ]
  },
  {
   "cell_type": "code",
   "execution_count": 37,
   "id": "8ba60066",
   "metadata": {},
   "outputs": [],
   "source": [
    "xtrain,xtest,ytrain,ytest = train_test_split(X,y,test_size=0.2, random_state=1)"
   ]
  },
  {
   "cell_type": "code",
   "execution_count": 38,
   "id": "3c88a44b",
   "metadata": {},
   "outputs": [
    {
     "data": {
      "text/plain": [
       "['linear', 'poly', 'rbf']"
      ]
     },
     "execution_count": 38,
     "metadata": {},
     "output_type": "execute_result"
    }
   ],
   "source": [
    "kernels =['linear','poly','rbf']\n",
    "kernels"
   ]
  },
  {
   "cell_type": "code",
   "execution_count": 39,
   "id": "b8d409ff",
   "metadata": {},
   "outputs": [],
   "source": [
    "best_kernel = None"
   ]
  },
  {
   "cell_type": "code",
   "execution_count": 40,
   "id": "0ced5038",
   "metadata": {},
   "outputs": [],
   "source": [
    "best_accuracy = 0"
   ]
  },
  {
   "cell_type": "code",
   "execution_count": 43,
   "id": "d419ccc6",
   "metadata": {},
   "outputs": [
    {
     "name": "stdout",
     "output_type": "stream",
     "text": [
      "For linear  kernel accuracy is  0.956140350877193\n",
      "For poly  kernel accuracy is  0.8947368421052632\n",
      "For rbf  kernel accuracy is  0.9035087719298246\n"
     ]
    }
   ],
   "source": [
    "for kernel in kernels:\n",
    "    model = SVC(kernel=kernel)\n",
    "    model.fit(xtrain,ytrain)\n",
    "    ypred=model.predict(xtest)\n",
    "    accuracy=accuracy_score(ytest,ypred)\n",
    "    print('For',kernel,' kernel accuracy is ', accuracy)\n",
    "    if accuracy > best_accuracy:\n",
    "        best_accuracy = accuracy\n",
    "        best_kernel=kernel\n",
    "    "
   ]
  },
  {
   "cell_type": "code",
   "execution_count": 42,
   "id": "c37913f3",
   "metadata": {},
   "outputs": [
    {
     "name": "stdout",
     "output_type": "stream",
     "text": [
      "for the given problem best kernel is :  linear  with best accuracy  0.956140350877193\n"
     ]
    }
   ],
   "source": [
    "print('for the given problem best kernel is : ' , best_kernel ,' with best accuracy ', best_accuracy)"
   ]
  },
  {
   "cell_type": "code",
   "execution_count": null,
   "id": "cc430c84",
   "metadata": {},
   "outputs": [],
   "source": []
  }
 ],
 "metadata": {
  "kernelspec": {
   "display_name": "Python 3",
   "language": "python",
   "name": "python3"
  },
  "language_info": {
   "codemirror_mode": {
    "name": "ipython",
    "version": 3
   },
   "file_extension": ".py",
   "mimetype": "text/x-python",
   "name": "python",
   "nbconvert_exporter": "python",
   "pygments_lexer": "ipython3",
   "version": "3.8.8"
  }
 },
 "nbformat": 4,
 "nbformat_minor": 5
}
