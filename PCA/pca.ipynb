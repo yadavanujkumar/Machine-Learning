{
 "cells": [
  {
   "cell_type": "code",
   "execution_count": 1,
   "id": "8c21276f",
   "metadata": {},
   "outputs": [],
   "source": [
    "# importing the iris dataset\n",
    "from sklearn.datasets import load_iris\n",
    "import pandas as pd\n",
    "dataset = load_iris() #creating a object\n",
    "cols = dataset.feature_names #names of the input features\n",
    "df = pd.DataFrame(dataset.data, columns=cols)\n"
   ]
  },
  {
   "cell_type": "code",
   "execution_count": 2,
   "id": "53b10846",
   "metadata": {},
   "outputs": [
    {
     "data": {
      "text/html": [
       "<div>\n",
       "<style scoped>\n",
       "    .dataframe tbody tr th:only-of-type {\n",
       "        vertical-align: middle;\n",
       "    }\n",
       "\n",
       "    .dataframe tbody tr th {\n",
       "        vertical-align: top;\n",
       "    }\n",
       "\n",
       "    .dataframe thead th {\n",
       "        text-align: right;\n",
       "    }\n",
       "</style>\n",
       "<table border=\"1\" class=\"dataframe\">\n",
       "  <thead>\n",
       "    <tr style=\"text-align: right;\">\n",
       "      <th></th>\n",
       "      <th>sepal length (cm)</th>\n",
       "      <th>sepal width (cm)</th>\n",
       "      <th>petal length (cm)</th>\n",
       "      <th>petal width (cm)</th>\n",
       "    </tr>\n",
       "  </thead>\n",
       "  <tbody>\n",
       "    <tr>\n",
       "      <th>0</th>\n",
       "      <td>5.1</td>\n",
       "      <td>3.5</td>\n",
       "      <td>1.4</td>\n",
       "      <td>0.2</td>\n",
       "    </tr>\n",
       "    <tr>\n",
       "      <th>1</th>\n",
       "      <td>4.9</td>\n",
       "      <td>3.0</td>\n",
       "      <td>1.4</td>\n",
       "      <td>0.2</td>\n",
       "    </tr>\n",
       "    <tr>\n",
       "      <th>2</th>\n",
       "      <td>4.7</td>\n",
       "      <td>3.2</td>\n",
       "      <td>1.3</td>\n",
       "      <td>0.2</td>\n",
       "    </tr>\n",
       "    <tr>\n",
       "      <th>3</th>\n",
       "      <td>4.6</td>\n",
       "      <td>3.1</td>\n",
       "      <td>1.5</td>\n",
       "      <td>0.2</td>\n",
       "    </tr>\n",
       "    <tr>\n",
       "      <th>4</th>\n",
       "      <td>5.0</td>\n",
       "      <td>3.6</td>\n",
       "      <td>1.4</td>\n",
       "      <td>0.2</td>\n",
       "    </tr>\n",
       "  </tbody>\n",
       "</table>\n",
       "</div>"
      ],
      "text/plain": [
       "   sepal length (cm)  sepal width (cm)  petal length (cm)  petal width (cm)\n",
       "0                5.1               3.5                1.4               0.2\n",
       "1                4.9               3.0                1.4               0.2\n",
       "2                4.7               3.2                1.3               0.2\n",
       "3                4.6               3.1                1.5               0.2\n",
       "4                5.0               3.6                1.4               0.2"
      ]
     },
     "execution_count": 2,
     "metadata": {},
     "output_type": "execute_result"
    }
   ],
   "source": [
    "df.head()\n"
   ]
  },
  {
   "cell_type": "code",
   "execution_count": 3,
   "id": "c9cb214d",
   "metadata": {},
   "outputs": [],
   "source": [
    "from sklearn.preprocessing import StandardScaler\n"
   ]
  },
  {
   "cell_type": "code",
   "execution_count": 4,
   "id": "59d9af20",
   "metadata": {},
   "outputs": [],
   "source": [
    "x=df.iloc[:,:-1]\n"
   ]
  },
  {
   "cell_type": "code",
   "execution_count": 6,
   "id": "1916620e",
   "metadata": {},
   "outputs": [
    {
     "name": "stdout",
     "output_type": "stream",
     "text": [
      "0      0.2\n",
      "1      0.2\n",
      "2      0.2\n",
      "3      0.2\n",
      "4      0.2\n",
      "      ... \n",
      "145    2.3\n",
      "146    1.9\n",
      "147    2.0\n",
      "148    2.3\n",
      "149    1.8\n",
      "Name: petal width (cm), Length: 150, dtype: float64\n"
     ]
    }
   ],
   "source": [
    "y=df.iloc[:,-1]\n",
    "print(y)"
   ]
  },
  {
   "cell_type": "code",
   "execution_count": 7,
   "id": "c460d867",
   "metadata": {},
   "outputs": [
    {
     "name": "stdout",
     "output_type": "stream",
     "text": [
      "            0         1         2\n",
      "0   -0.900681  1.019004 -1.340227\n",
      "1   -1.143017 -0.131979 -1.340227\n",
      "2   -1.385353  0.328414 -1.397064\n",
      "3   -1.506521  0.098217 -1.283389\n",
      "4   -1.021849  1.249201 -1.340227\n",
      "..        ...       ...       ...\n",
      "145  1.038005 -0.131979  0.819596\n",
      "146  0.553333 -1.282963  0.705921\n",
      "147  0.795669 -0.131979  0.819596\n",
      "148  0.432165  0.788808  0.933271\n",
      "149  0.068662 -0.131979  0.762758\n",
      "\n",
      "[150 rows x 3 columns]\n"
     ]
    }
   ],
   "source": [
    "x=StandardScaler().fit_transform(x) # Scaling X\n",
    "x=pd.DataFrame(x)\n",
    "print(x)"
   ]
  },
  {
   "cell_type": "code",
   "execution_count": 8,
   "id": "9f191abd",
   "metadata": {},
   "outputs": [],
   "source": [
    "from sklearn.decomposition import PCA\n",
    "pca = PCA() #object\n",
    "#just on x- pca comes under unsupervised learning\n",
    "x_pca = pca.fit_transform(x) #applying pca on x\n",
    "x_pca = pd.DataFrame(x_pca) #converting into a datafram"
   ]
  },
  {
   "cell_type": "code",
   "execution_count": 9,
   "id": "e5e46b00",
   "metadata": {},
   "outputs": [
    {
     "data": {
      "text/plain": [
       "array([[ 0.62906623, -0.36114435,  0.68836795],\n",
       "       [ 0.43339843,  0.89806788,  0.07509912],\n",
       "       [-0.64532277,  0.25109527,  0.72146357]])"
      ]
     },
     "execution_count": 9,
     "metadata": {},
     "output_type": "execute_result"
    }
   ],
   "source": [
    " pca.components_"
   ]
  },
  {
   "cell_type": "code",
   "execution_count": 10,
   "id": "94e0217a",
   "metadata": {},
   "outputs": [
    {
     "name": "stdout",
     "output_type": "stream",
     "text": [
      "Explained Variance [2.0349965  0.91352474 0.07161299]\n"
     ]
    }
   ],
   "source": [
    " print('Explained Variance', pca.explained_variance_) # Variation (found by ssd/n-1)"
   ]
  },
  {
   "cell_type": "code",
   "execution_count": 11,
   "id": "01142a28",
   "metadata": {},
   "outputs": [
    {
     "name": "stdout",
     "output_type": "stream",
     "text": [
      "Proposition of Explained Variance [0.67380995 0.30247819 0.02371186]\n"
     ]
    }
   ],
   "source": [
    " print('Proposition of Explained Variance',pca.explained_variance_ratio_) #proportional form (eg.v1/v1+v2+v3)"
   ]
  },
  {
   "cell_type": "code",
   "execution_count": 13,
   "id": "2db4fd5b",
   "metadata": {},
   "outputs": [
    {
     "name": "stdout",
     "output_type": "stream",
     "text": [
      "Cumulative Proportion of Explained Variance [0.67380995 0.97628814 1.        ]\n"
     ]
    },
    {
     "data": {
      "text/html": [
       "<div>\n",
       "<style scoped>\n",
       "    .dataframe tbody tr th:only-of-type {\n",
       "        vertical-align: middle;\n",
       "    }\n",
       "\n",
       "    .dataframe tbody tr th {\n",
       "        vertical-align: top;\n",
       "    }\n",
       "\n",
       "    .dataframe thead th {\n",
       "        text-align: right;\n",
       "    }\n",
       "</style>\n",
       "<table border=\"1\" class=\"dataframe\">\n",
       "  <thead>\n",
       "    <tr style=\"text-align: right;\">\n",
       "      <th></th>\n",
       "      <th>PC1</th>\n",
       "      <th>PC2</th>\n",
       "      <th>PC3</th>\n",
       "      <th>PC4</th>\n",
       "    </tr>\n",
       "  </thead>\n",
       "  <tbody>\n",
       "    <tr>\n",
       "      <th>0</th>\n",
       "      <td>-1.857165</td>\n",
       "      <td>0.424131</td>\n",
       "      <td>-0.129827</td>\n",
       "      <td>0.2</td>\n",
       "    </tr>\n",
       "    <tr>\n",
       "      <th>1</th>\n",
       "      <td>-1.593939</td>\n",
       "      <td>-0.714558</td>\n",
       "      <td>-0.262449</td>\n",
       "      <td>0.2</td>\n",
       "    </tr>\n",
       "    <tr>\n",
       "      <th>2</th>\n",
       "      <td>-1.951778</td>\n",
       "      <td>-0.410390</td>\n",
       "      <td>-0.031468</td>\n",
       "      <td>0.2</td>\n",
       "    </tr>\n",
       "    <tr>\n",
       "      <th>3</th>\n",
       "      <td>-1.866616</td>\n",
       "      <td>-0.661099</td>\n",
       "      <td>0.070935</td>\n",
       "      <td>0.2</td>\n",
       "    </tr>\n",
       "    <tr>\n",
       "      <th>4</th>\n",
       "      <td>-2.016522</td>\n",
       "      <td>0.578350</td>\n",
       "      <td>0.006166</td>\n",
       "      <td>0.2</td>\n",
       "    </tr>\n",
       "  </tbody>\n",
       "</table>\n",
       "</div>"
      ],
      "text/plain": [
       "        PC1       PC2       PC3  PC4\n",
       "0 -1.857165  0.424131 -0.129827  0.2\n",
       "1 -1.593939 -0.714558 -0.262449  0.2\n",
       "2 -1.951778 -0.410390 -0.031468  0.2\n",
       "3 -1.866616 -0.661099  0.070935  0.2\n",
       "4 -2.016522  0.578350  0.006166  0.2"
      ]
     },
     "execution_count": 13,
     "metadata": {},
     "output_type": "execute_result"
    }
   ],
   "source": [
    "import numpy as np\n",
    "print('Cumulative Proportion of Explained Variance', np.cumsum(pca.explained_variance_ratio_)) # Cumulative Sum of the above\n",
    "x_pca['target']=y\n",
    "x_pca.columns=['PC1','PC2','PC3','PC4']\n",
    "x_pca.head() #printing with proper header values\n",
    " #pc1 = 72 pc1+pc2=96 1+2+3=99\n",
    " #pc1 and pc2 are important as they cover 96"
   ]
  },
  {
   "cell_type": "code",
   "execution_count": 14,
   "id": "613a8732",
   "metadata": {},
   "outputs": [
    {
     "data": {
      "image/png": "[encoded data removed]",
      "text/plain": [
       "<Figure size 432x288 with 1 Axes>"
      ]
     },
     "metadata": {
      "needs_background": "light"
     },
     "output_type": "display_data"
    }
   ],
   "source": [
    "import matplotlib.pyplot as plt\n",
    "#it has 4 components therefore, 4-- 0 1 2 3\n",
    "#for graph  +1 -- 1 2 3 4\n",
    "PC_values = np.arange(pca.n_components_)+1 #\n",
    "\n",
    "plt.plot(PC_values,pca.explained_variance_ratio_,'ro-',linewidth=2)\n",
    "\n",
    "plt.title(\"Scree Plot\")\n",
    "plt.xlabel(\"Principal Components\")\n",
    "plt.ylabel(\"Proportion of Explained Variance\")\n",
    "plt.show()"
   ]
  },
  {
   "cell_type": "code",
   "execution_count": 15,
   "id": "a54ea122",
   "metadata": {},
   "outputs": [
    {
     "data": {
      "text/plain": [
       "<BarContainer object of 3 artists>"
      ]
     },
     "execution_count": 15,
     "metadata": {},
     "output_type": "execute_result"
    },
    {
     "data": {
      "image/png": "[encoded data removed]",
      "text/plain": [
       "<Figure size 432x288 with 1 Axes>"
      ]
     },
     "metadata": {
      "needs_background": "light"
     },
     "output_type": "display_data"
    }
   ],
   "source": [
    "plt.bar(PC_values,pca.explained_variance_ratio_) #bar plot\n"
   ]
  },
  {
   "cell_type": "code",
   "execution_count": 16,
   "id": "5a759210",
   "metadata": {},
   "outputs": [
    {
     "data": {
      "text/html": [
       "<div>\n",
       "<style scoped>\n",
       "    .dataframe tbody tr th:only-of-type {\n",
       "        vertical-align: middle;\n",
       "    }\n",
       "\n",
       "    .dataframe tbody tr th {\n",
       "        vertical-align: top;\n",
       "    }\n",
       "\n",
       "    .dataframe thead th {\n",
       "        text-align: right;\n",
       "    }\n",
       "</style>\n",
       "<table border=\"1\" class=\"dataframe\">\n",
       "  <thead>\n",
       "    <tr style=\"text-align: right;\">\n",
       "      <th></th>\n",
       "      <th>PC1</th>\n",
       "      <th>PC2</th>\n",
       "      <th>PC3</th>\n",
       "    </tr>\n",
       "  </thead>\n",
       "  <tbody>\n",
       "    <tr>\n",
       "      <th>0</th>\n",
       "      <td>0.629066</td>\n",
       "      <td>0.433398</td>\n",
       "      <td>-0.645323</td>\n",
       "    </tr>\n",
       "    <tr>\n",
       "      <th>1</th>\n",
       "      <td>-0.361144</td>\n",
       "      <td>0.898068</td>\n",
       "      <td>0.251095</td>\n",
       "    </tr>\n",
       "    <tr>\n",
       "      <th>2</th>\n",
       "      <td>0.688368</td>\n",
       "      <td>0.075099</td>\n",
       "      <td>0.721464</td>\n",
       "    </tr>\n",
       "  </tbody>\n",
       "</table>\n",
       "</div>"
      ],
      "text/plain": [
       "        PC1       PC2       PC3\n",
       "0  0.629066  0.433398 -0.645323\n",
       "1 -0.361144  0.898068  0.251095\n",
       "2  0.688368  0.075099  0.721464"
      ]
     },
     "execution_count": 16,
     "metadata": {},
     "output_type": "execute_result"
    }
   ],
   "source": [
    "loadings=pd.DataFrame(pca.components_.T,columns=[f'PC{i+1}' for i in range(pca.n_components_)],index=x.columns)\n",
    "loadings"
   ]
  },
  {
   "cell_type": "code",
   "execution_count": null,
   "id": "037e3880",
   "metadata": {},
   "outputs": [],
   "source": []
  }
 ],
 "metadata": {
  "kernelspec": {
   "display_name": "Python 3",
   "language": "python",
   "name": "python3"
  },
  "language_info": {
   "codemirror_mode": {
    "name": "ipython",
    "version": 3
   },
   "file_extension": ".py",
   "mimetype": "text/x-python",
   "name": "python",
   "nbconvert_exporter": "python",
   "pygments_lexer": "ipython3",
   "version": "3.8.8"
  }
 },
 "nbformat": 4,
 "nbformat_minor": 5
}
