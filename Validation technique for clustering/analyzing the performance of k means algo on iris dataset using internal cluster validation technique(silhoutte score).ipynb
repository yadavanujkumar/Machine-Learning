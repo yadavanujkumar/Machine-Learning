{
 "cells": [
  {
   "cell_type": "code",
   "execution_count": 7,
   "id": "8426b9fe",
   "metadata": {},
   "outputs": [],
   "source": [
    "from sklearn import datasets\n",
    "from sklearn.cluster import KMeans\n",
    "from sklearn.metrics import silhouette_score ,silhouette_samples\n",
    "iris=datasets.load_iris()\n",
    "x=iris.data"
   ]
  },
  {
   "cell_type": "code",
   "execution_count": 19,
   "id": "7d722382",
   "metadata": {},
   "outputs": [
    {
     "name": "stdout",
     "output_type": "stream",
     "text": [
      "Silhouette score is 0.553\n"
     ]
    },
    {
     "name": "stderr",
     "output_type": "stream",
     "text": [
      "C:\\Users\\CompLab05\\anaconda3\\lib\\site-packages\\sklearn\\cluster\\_kmeans.py:1416: FutureWarning: The default value of `n_init` will change from 10 to 'auto' in 1.4. Set the value of `n_init` explicitly to suppress the warning\n",
      "  super()._check_params_vs_input(X, default_n_init=10)\n",
      "C:\\Users\\CompLab05\\anaconda3\\lib\\site-packages\\sklearn\\cluster\\_kmeans.py:1440: UserWarning: KMeans is known to have a memory leak on Windows with MKL, when there are less chunks than available threads. You can avoid it by setting the environment variable OMP_NUM_THREADS=1.\n",
      "  warnings.warn(\n"
     ]
    }
   ],
   "source": [
    "km = KMeans(n_clusters=3)\n",
    "km.fit_predict(x)\n",
    "score = silhouette_score(x , km.labels_, metric='euclidean')\n",
    "print('Silhouette score is %.3f' % score)"
   ]
  },
  {
   "cell_type": "code",
   "execution_count": 11,
   "id": "f56fd994",
   "metadata": {},
   "outputs": [
    {
     "name": "stdout",
     "output_type": "stream",
     "text": [
      "\n",
      "Silhouette sample is:\n",
      "  [0.85295506 0.81549476 0.8293151  0.80501395 0.8493016  0.74828037\n",
      " 0.82165093 0.85390505 0.75215011 0.825294   0.80310303 0.83591262\n",
      " 0.81056389 0.74615046 0.70259371 0.64377156 0.77568391 0.85101831\n",
      " 0.70685782 0.82030124 0.78418399 0.82590584 0.79297218 0.7941134\n",
      " 0.77503635 0.79865509 0.83346695 0.84201773 0.84364429 0.81784646\n",
      " 0.81518962 0.79899235 0.76272528 0.72224615 0.82877171 0.83224831\n",
      " 0.79415322 0.84188954 0.76856774 0.85033231 0.84941579 0.63900017\n",
      " 0.78657771 0.80023815 0.74698726 0.80977534 0.81340268 0.81902059\n",
      " 0.8182324  0.85209835 0.02672203 0.38118643 0.05340075 0.59294381\n",
      " 0.36885321 0.59221025 0.28232583 0.26525405 0.34419223 0.57829491\n",
      " 0.37478707 0.58710354 0.55107857 0.48216686 0.56310057 0.32459291\n",
      " 0.55751057 0.61072967 0.46149897 0.6115753  0.32909528 0.58968904\n",
      " 0.31046301 0.49424779 0.5000461  0.38548959 0.12629433 0.11798213\n",
      " 0.55293611 0.5069822  0.59466094 0.5607585  0.61972579 0.26087292\n",
      " 0.54077013 0.41598629 0.16655431 0.48935747 0.60716023 0.61436443\n",
      " 0.59560929 0.50352722 0.62444848 0.29362234 0.62754454 0.60657448\n",
      " 0.62205599 0.55780204 0.14131742 0.63064081 0.49927538 0.23225278\n",
      " 0.61193633 0.36075942 0.5577792  0.54384277 0.46682151 0.55917348\n",
      " 0.44076207 0.56152256 0.26062588 0.22965423 0.55509948 0.28503067\n",
      " 0.02635881 0.39825264 0.42110831 0.49486598 0.48341063 0.32868889\n",
      " 0.6070348  0.33355947 0.51237366 0.20297372 0.580154   0.57818326\n",
      " 0.30904249 0.25226992 0.45434264 0.51608826 0.56017398 0.48442397\n",
      " 0.46255248 0.13900039 0.05328614 0.55186784 0.45549975 0.3887791\n",
      " 0.35124673 0.53444618 0.5702338  0.41025549 0.23225278 0.61324746\n",
      " 0.5670778  0.42513648 0.10417086 0.31493016 0.35245379 0.18544229]\n"
     ]
    }
   ],
   "source": [
    "sample = silhouette_samples(x , km.labels_, metric='euclidean')\n",
    "print('\\nSilhouette sample is:\\n ',sample)"
   ]
  },
  {
   "cell_type": "code",
   "execution_count": null,
   "id": "8ac4a800",
   "metadata": {},
   "outputs": [],
   "source": []
  }
 ],
 "metadata": {
  "kernelspec": {
   "display_name": "Python 3",
   "language": "python",
   "name": "python3"
  },
  "language_info": {
   "codemirror_mode": {
    "name": "ipython",
    "version": 3
   },
   "file_extension": ".py",
   "mimetype": "text/x-python",
   "name": "python",
   "nbconvert_exporter": "python",
   "pygments_lexer": "ipython3",
   "version": "3.8.8"
  }
 },
 "nbformat": 4,
 "nbformat_minor": 5
}
