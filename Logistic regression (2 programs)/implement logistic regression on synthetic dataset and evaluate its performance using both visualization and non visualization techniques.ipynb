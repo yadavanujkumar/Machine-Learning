{
 "cells": [
  {
   "cell_type": "code",
   "execution_count": 1,
   "id": "76f82941",
   "metadata": {},
   "outputs": [],
   "source": [
    "from sklearn.datasets import make_classification\n"
   ]
  },
  {
   "cell_type": "code",
   "execution_count": 2,
   "id": "4273b8df",
   "metadata": {},
   "outputs": [],
   "source": [
    "X,y=make_classification(n_samples=1000, n_features=10, n_classes=2, random_state=2)"
   ]
  },
  {
   "cell_type": "code",
   "execution_count": 3,
   "id": "865ccab3",
   "metadata": {},
   "outputs": [
    {
     "data": {
      "text/plain": [
       "(1000, 10)"
      ]
     },
     "execution_count": 3,
     "metadata": {},
     "output_type": "execute_result"
    }
   ],
   "source": [
    "X.shape"
   ]
  },
  {
   "cell_type": "code",
   "execution_count": 4,
   "id": "a55b9348",
   "metadata": {},
   "outputs": [
    {
     "data": {
      "text/plain": [
       "(1000,)"
      ]
     },
     "execution_count": 4,
     "metadata": {},
     "output_type": "execute_result"
    }
   ],
   "source": [
    "y.shape"
   ]
  },
  {
   "cell_type": "code",
   "execution_count": 5,
   "id": "23afd2ff",
   "metadata": {},
   "outputs": [
    {
     "data": {
      "text/plain": [
       "array([-3.10242081, -0.07342322,  0.41972891,  0.96616393, -0.24918304,\n",
       "       -0.60499269,  0.34970061, -2.21131549, -1.7235762 ,  2.27126308])"
      ]
     },
     "execution_count": 5,
     "metadata": {},
     "output_type": "execute_result"
    }
   ],
   "source": [
    "X[0]"
   ]
  },
  {
   "cell_type": "code",
   "execution_count": 6,
   "id": "d82397be",
   "metadata": {
    "scrolled": true
   },
   "outputs": [
    {
     "data": {
      "text/plain": [
       "1"
      ]
     },
     "execution_count": 6,
     "metadata": {},
     "output_type": "execute_result"
    }
   ],
   "source": [
    "y[0]"
   ]
  },
  {
   "cell_type": "code",
   "execution_count": 7,
   "id": "c2bcf3ce",
   "metadata": {
    "collapsed": true
   },
   "outputs": [
    {
     "data": {
      "text/plain": [
       "array([1, 1, 0, 0, 1, 1, 0, 0, 0, 0, 1, 1, 0, 1, 1, 1, 1, 0, 1, 0, 0, 0,\n",
       "       0, 1, 0, 0, 0, 0, 1, 1, 1, 1, 1, 1, 1, 1, 1, 1, 1, 0, 1, 1, 1, 1,\n",
       "       1, 1, 0, 0, 0, 1, 0, 1, 1, 0, 0, 0, 1, 0, 0, 0, 0, 1, 0, 0, 0, 0,\n",
       "       1, 1, 1, 1, 0, 1, 0, 0, 0, 1, 0, 0, 1, 1, 0, 0, 1, 1, 0, 1, 1, 0,\n",
       "       1, 1, 0, 1, 1, 0, 1, 1, 0, 0, 0, 0, 1, 1, 0, 1, 0, 1, 0, 1, 0, 1,\n",
       "       0, 0, 1, 0, 1, 0, 0, 1, 1, 0, 0, 1, 0, 0, 1, 0, 0, 0, 0, 0, 1, 0,\n",
       "       0, 1, 1, 0, 0, 0, 1, 1, 1, 1, 0, 0, 1, 0, 1, 0, 0, 1, 0, 0, 1, 1,\n",
       "       0, 1, 0, 1, 0, 1, 1, 1, 0, 0, 0, 1, 1, 1, 1, 0, 0, 0, 1, 0, 0, 0,\n",
       "       1, 0, 1, 0, 1, 0, 1, 0, 0, 1, 1, 1, 0, 1, 1, 0, 1, 1, 1, 1, 0, 1,\n",
       "       0, 1, 1, 0, 1, 1, 1, 0, 0, 1, 0, 0, 0, 0, 1, 1, 1, 0, 0, 0, 0, 1,\n",
       "       0, 0, 1, 0, 1, 0, 0, 1, 1, 0, 1, 1, 1, 1, 0, 1, 0, 1, 0, 1, 1, 0,\n",
       "       1, 1, 0, 1, 1, 0, 0, 1, 0, 0, 1, 0, 1, 1, 0, 1, 1, 0, 1, 1, 1, 0,\n",
       "       1, 1, 0, 1, 0, 0, 0, 0, 1, 0, 1, 0, 0, 0, 1, 0, 0, 0, 1, 1, 1, 0,\n",
       "       1, 1, 1, 1, 1, 0, 0, 0, 1, 0, 1, 1, 1, 1, 1, 1, 1, 1, 1, 1, 1, 0,\n",
       "       1, 1, 0, 1, 1, 1, 0, 0, 1, 1, 1, 1, 0, 1, 0, 1, 1, 1, 0, 1, 1, 0,\n",
       "       1, 1, 1, 1, 0, 1, 0, 1, 1, 0, 0, 1, 0, 0, 0, 1, 1, 1, 0, 0, 0, 1,\n",
       "       0, 0, 0, 1, 0, 0, 0, 0, 1, 1, 0, 0, 1, 0, 1, 1, 1, 1, 1, 1, 1, 0,\n",
       "       0, 0, 0, 0, 1, 0, 1, 1, 1, 1, 1, 1, 1, 1, 0, 0, 0, 1, 1, 0, 0, 0,\n",
       "       0, 1, 1, 0, 0, 1, 1, 1, 1, 0, 1, 0, 1, 0, 0, 1, 0, 1, 0, 1, 0, 0,\n",
       "       0, 1, 0, 1, 0, 1, 1, 0, 0, 0, 1, 1, 1, 1, 1, 0, 1, 1, 0, 1, 1, 0,\n",
       "       1, 0, 0, 1, 0, 0, 0, 1, 1, 1, 0, 1, 1, 0, 0, 0, 0, 1, 0, 0, 0, 1,\n",
       "       0, 1, 1, 0, 0, 0, 0, 0, 0, 0, 0, 0, 0, 0, 1, 0, 1, 1, 1, 1, 0, 1,\n",
       "       0, 0, 0, 0, 0, 1, 0, 0, 1, 0, 1, 0, 1, 1, 0, 0, 0, 1, 1, 1, 1, 0,\n",
       "       0, 0, 0, 0, 1, 1, 1, 0, 1, 0, 1, 0, 0, 1, 1, 0, 1, 0, 0, 0, 0, 1,\n",
       "       1, 0, 1, 0, 1, 0, 0, 0, 0, 0, 1, 1, 1, 0, 0, 1, 0, 1, 1, 1, 0, 0,\n",
       "       1, 1, 0, 0, 0, 0, 0, 1, 0, 0, 1, 1, 0, 1, 1, 1, 0, 0, 1, 0, 1, 1,\n",
       "       1, 1, 0, 1, 0, 0, 1, 1, 0, 1, 1, 1, 0, 1, 0, 1, 0, 1, 1, 1, 0, 1,\n",
       "       1, 1, 1, 0, 0, 0, 1, 0, 1, 0, 1, 1, 1, 1, 0, 0, 1, 1, 0, 0, 1, 0,\n",
       "       1, 1, 0, 1, 1, 0, 0, 1, 0, 1, 0, 0, 0, 1, 0, 1, 0, 1, 0, 1, 0, 0,\n",
       "       0, 0, 0, 0, 0, 1, 1, 1, 0, 1, 1, 1, 1, 0, 1, 0, 1, 1, 1, 0, 0, 1,\n",
       "       0, 0, 1, 0, 1, 0, 1, 0, 1, 1, 1, 0, 1, 0, 1, 1, 1, 0, 0, 1, 0, 1,\n",
       "       1, 0, 1, 0, 0, 0, 0, 1, 1, 1, 1, 0, 1, 1, 0, 1, 0, 1, 0, 1, 1, 1,\n",
       "       1, 0, 1, 0, 0, 0, 0, 1, 1, 1, 1, 0, 0, 0, 1, 1, 0, 1, 0, 0, 0, 0,\n",
       "       0, 1, 0, 1, 1, 0, 0, 1, 0, 1, 0, 0, 0, 1, 1, 1, 1, 1, 0, 1, 0, 0,\n",
       "       0, 0, 1, 1, 1, 1, 1, 0, 1, 0, 0, 1, 0, 0, 0, 0, 0, 1, 0, 1, 0, 1,\n",
       "       1, 0, 1, 0, 1, 0, 0, 0, 1, 1, 0, 0, 0, 0, 0, 0, 1, 0, 0, 0, 0, 0,\n",
       "       0, 0, 1, 0, 0, 0, 1, 1, 1, 0, 0, 1, 0, 0, 0, 1, 0, 1, 1, 1, 0, 0,\n",
       "       1, 0, 1, 0, 0, 1, 0, 0, 0, 1, 1, 1, 1, 0, 0, 0, 0, 0, 1, 0, 1, 1,\n",
       "       0, 1, 0, 1, 0, 0, 1, 0, 0, 0, 0, 1, 1, 1, 1, 1, 1, 0, 1, 0, 1, 1,\n",
       "       1, 1, 0, 1, 1, 1, 1, 0, 1, 1, 0, 1, 0, 0, 0, 1, 0, 1, 1, 1, 0, 1,\n",
       "       0, 0, 1, 0, 0, 0, 0, 0, 1, 0, 1, 0, 0, 1, 1, 1, 0, 0, 0, 0, 0, 1,\n",
       "       1, 0, 1, 0, 1, 1, 1, 0, 1, 1, 0, 1, 1, 0, 0, 0, 1, 0, 0, 0, 1, 1,\n",
       "       1, 1, 0, 0, 0, 0, 1, 1, 0, 1, 1, 0, 0, 1, 1, 1, 0, 1, 1, 1, 0, 1,\n",
       "       0, 0, 0, 1, 0, 0, 1, 1, 0, 0, 0, 1, 0, 1, 0, 1, 0, 0, 1, 1, 0, 0,\n",
       "       1, 0, 0, 0, 1, 0, 1, 0, 1, 0, 0, 0, 0, 0, 1, 1, 1, 1, 1, 1, 1, 1,\n",
       "       0, 0, 1, 0, 0, 1, 0, 0, 0, 1])"
      ]
     },
     "execution_count": 7,
     "metadata": {},
     "output_type": "execute_result"
    }
   ],
   "source": [
    "y"
   ]
  },
  {
   "cell_type": "code",
   "execution_count": 8,
   "id": "b04ce8ef",
   "metadata": {},
   "outputs": [],
   "source": [
    "from sklearn.model_selection import train_test_split\n"
   ]
  },
  {
   "cell_type": "code",
   "execution_count": 9,
   "id": "f7032e7d",
   "metadata": {},
   "outputs": [],
   "source": [
    "xtrain,xtest,ytrain,ytest = train_test_split(X,y,test_size=0.3, random_state=1)"
   ]
  },
  {
   "cell_type": "code",
   "execution_count": 10,
   "id": "fbd0e236",
   "metadata": {},
   "outputs": [
    {
     "data": {
      "text/plain": [
       "((700, 10), (300, 10), (700,), (300,))"
      ]
     },
     "execution_count": 10,
     "metadata": {},
     "output_type": "execute_result"
    }
   ],
   "source": [
    "xtrain.shape,xtest.shape,ytrain.shape,ytest.shape"
   ]
  },
  {
   "cell_type": "code",
   "execution_count": 11,
   "id": "5a02d196",
   "metadata": {},
   "outputs": [],
   "source": [
    "from sklearn.linear_model import LogisticRegression"
   ]
  },
  {
   "cell_type": "code",
   "execution_count": 12,
   "id": "6a975993",
   "metadata": {},
   "outputs": [],
   "source": [
    "model=LogisticRegression()"
   ]
  },
  {
   "cell_type": "code",
   "execution_count": 13,
   "id": "0b0e0ee1",
   "metadata": {},
   "outputs": [
    {
     "data": {
      "text/plain": [
       "LogisticRegression()"
      ]
     },
     "execution_count": 13,
     "metadata": {},
     "output_type": "execute_result"
    }
   ],
   "source": [
    "model.fit(xtrain,ytrain)"
   ]
  },
  {
   "cell_type": "code",
   "execution_count": 14,
   "id": "963c5d37",
   "metadata": {},
   "outputs": [],
   "source": [
    "y_probs = model.predict_proba(xtest)[:,1]"
   ]
  },
  {
   "cell_type": "code",
   "execution_count": 15,
   "id": "031d5e9e",
   "metadata": {
    "collapsed": true
   },
   "outputs": [
    {
     "data": {
      "text/plain": [
       "array([6.88599399e-02, 1.19158493e-02, 8.13831511e-01, 8.01938304e-01,\n",
       "       9.46926018e-01, 7.89055209e-01, 9.98491243e-01, 9.03571881e-01,\n",
       "       9.99147800e-01, 8.05972623e-01, 1.32291606e-01, 8.55998114e-01,\n",
       "       9.62949349e-01, 8.56927087e-01, 1.23636251e-02, 9.91353932e-01,\n",
       "       1.08834542e-01, 2.10135318e-02, 8.62560830e-01, 9.49001917e-01,\n",
       "       9.34111432e-01, 4.77375210e-01, 4.90324792e-02, 8.38499231e-01,\n",
       "       1.39129959e-02, 2.62382686e-02, 2.32936241e-01, 9.99288952e-01,\n",
       "       4.74297389e-01, 3.14529180e-01, 9.67271062e-01, 9.44939686e-01,\n",
       "       4.28893208e-02, 9.99570456e-01, 6.48990181e-01, 9.99680506e-01,\n",
       "       4.41123091e-01, 9.04782434e-01, 9.67644576e-01, 9.34389082e-01,\n",
       "       5.32882898e-02, 9.85058675e-01, 1.00388399e-01, 9.87293151e-01,\n",
       "       9.99092364e-01, 5.25606869e-02, 2.58327720e-01, 8.79129643e-01,\n",
       "       2.79892388e-01, 8.42499181e-01, 9.41982875e-01, 7.21667168e-01,\n",
       "       2.32725116e-02, 3.07080584e-01, 1.58747023e-02, 2.36622036e-01,\n",
       "       2.44663382e-01, 4.09638772e-01, 2.40189657e-01, 3.91577520e-01,\n",
       "       2.09851715e-01, 7.81942328e-01, 2.56221203e-01, 3.49009475e-01,\n",
       "       1.64646919e-01, 2.72861161e-02, 1.69612753e-01, 5.15669559e-01,\n",
       "       9.99611592e-01, 1.92818781e-01, 3.30430900e-03, 9.93956578e-01,\n",
       "       7.93186551e-02, 7.30159481e-01, 9.16798324e-01, 2.28536360e-02,\n",
       "       8.03617013e-02, 3.34731782e-01, 1.70195640e-01, 2.74394279e-02,\n",
       "       8.73278446e-01, 8.89315206e-01, 9.86061577e-01, 1.72487730e-01,\n",
       "       2.08776898e-02, 8.28648251e-01, 9.78836405e-01, 3.08941976e-02,\n",
       "       9.72232022e-01, 9.80970250e-01, 8.18500324e-01, 3.07315786e-01,\n",
       "       7.88253494e-01, 1.48926010e-01, 3.58499229e-02, 2.85203501e-01,\n",
       "       2.20812512e-01, 9.88811891e-01, 9.98161728e-01, 3.28685914e-01,\n",
       "       7.81798154e-01, 7.01307381e-01, 6.06981909e-01, 4.18386293e-01,\n",
       "       9.94889554e-01, 9.36491588e-01, 9.78608241e-01, 9.46338382e-01,\n",
       "       9.68642351e-03, 6.61576775e-03, 9.00627301e-01, 1.00478402e-01,\n",
       "       1.08100047e-01, 1.20358676e-01, 5.81430251e-03, 8.96498460e-03,\n",
       "       8.32990351e-01, 9.99973588e-01, 8.65125175e-03, 9.90744038e-01,\n",
       "       7.20725975e-01, 9.36832847e-01, 2.59507183e-01, 9.91683842e-01,\n",
       "       9.85129050e-01, 2.72398483e-02, 3.65820222e-01, 1.14131194e-01,\n",
       "       9.68211593e-01, 9.92354732e-01, 9.85265744e-01, 9.69568492e-02,\n",
       "       9.06522697e-01, 2.26077966e-02, 4.25267451e-01, 5.09325020e-02,\n",
       "       3.90294663e-02, 9.78134390e-01, 8.35358677e-02, 8.69085980e-02,\n",
       "       1.64825114e-01, 2.66734824e-01, 6.34679680e-01, 4.75999890e-02,\n",
       "       2.51796342e-01, 1.70430739e-01, 9.42482403e-02, 4.10693496e-02,\n",
       "       6.20928032e-02, 1.55602820e-02, 3.04904992e-01, 3.01678915e-02,\n",
       "       4.87561448e-02, 9.70452093e-01, 4.27437477e-01, 6.53771462e-01,\n",
       "       1.10881540e-01, 4.55555378e-01, 7.42125350e-01, 9.95934097e-01,\n",
       "       5.46114122e-01, 4.84886032e-01, 6.53971504e-02, 2.32035918e-02,\n",
       "       1.63136154e-01, 2.29669190e-01, 4.69755988e-02, 4.36171417e-01,\n",
       "       5.85580788e-02, 9.52496070e-01, 6.30173279e-01, 4.00124958e-02,\n",
       "       7.05115784e-01, 9.80661966e-01, 8.54597708e-01, 2.10973869e-01,\n",
       "       9.45467263e-01, 9.96741842e-01, 3.31294095e-02, 1.70298167e-01,\n",
       "       5.92086488e-02, 2.48794521e-01, 6.04728982e-01, 9.77362803e-01,\n",
       "       1.22036250e-01, 4.28228509e-03, 8.86811002e-01, 8.82928691e-02,\n",
       "       1.86828930e-01, 9.99207232e-01, 9.92692861e-01, 9.92470205e-01,\n",
       "       9.58023597e-01, 3.34111389e-01, 9.15313725e-01, 9.66961861e-01,\n",
       "       2.67752053e-01, 9.73829053e-01, 5.36739359e-02, 4.51556401e-01,\n",
       "       9.44082744e-01, 1.01433958e-01, 6.57270174e-01, 3.15095416e-01,\n",
       "       1.66633601e-01, 6.34572358e-01, 7.36025274e-02, 1.62753422e-01,\n",
       "       1.44930893e-01, 9.99711504e-01, 4.59598145e-01, 9.91745569e-01,\n",
       "       9.99087233e-01, 7.15172964e-01, 8.66432001e-01, 7.65341205e-01,\n",
       "       8.76253449e-01, 1.16840803e-01, 9.74702863e-01, 1.87387779e-01,\n",
       "       9.90132999e-01, 2.27844915e-02, 9.67897990e-01, 1.65184175e-01,\n",
       "       9.62587386e-01, 1.90323943e-01, 5.57417585e-01, 1.09334953e-01,\n",
       "       3.48285978e-01, 2.22104548e-03, 2.35878452e-01, 1.11396350e-02,\n",
       "       4.68582609e-02, 6.65940737e-02, 3.59812762e-03, 9.78857441e-01,\n",
       "       8.92272687e-01, 1.43244102e-01, 9.30878002e-02, 5.29560243e-02,\n",
       "       2.80127889e-01, 9.85583099e-01, 2.81179248e-02, 9.87306717e-01,\n",
       "       4.87750101e-01, 7.37518053e-01, 9.97524376e-01, 1.52544733e-01,\n",
       "       5.19836435e-02, 2.73328145e-01, 8.03474038e-01, 1.93145588e-01,\n",
       "       6.16047295e-01, 2.82536477e-01, 5.49794270e-02, 1.69229281e-01,\n",
       "       9.77689182e-01, 1.95790574e-01, 5.30180915e-01, 7.60075503e-02,\n",
       "       5.87890989e-01, 9.98482181e-01, 8.37035374e-01, 9.88252562e-01,\n",
       "       2.21645683e-01, 6.53015684e-05, 9.71866031e-01, 2.35576791e-02,\n",
       "       1.10680189e-01, 1.03714918e-02, 9.72901320e-01, 4.37901244e-01,\n",
       "       1.56413392e-01, 5.25834860e-03, 2.72899803e-01, 9.95686826e-01,\n",
       "       4.02324349e-02, 1.46120562e-01, 9.95271827e-01, 8.42950806e-02,\n",
       "       9.61801297e-01, 7.58980228e-01, 8.96095528e-03, 2.97920442e-02,\n",
       "       2.35065031e-01, 5.57847143e-01, 2.72387154e-02, 5.37147192e-02,\n",
       "       9.99855150e-01, 1.25832047e-01, 1.28254023e-01, 9.99455524e-01,\n",
       "       5.55056504e-01, 9.96288004e-01, 1.56991101e-01, 9.58448360e-01,\n",
       "       9.69250896e-01, 9.85960708e-01, 5.60771800e-01, 3.04615134e-01])"
      ]
     },
     "execution_count": 15,
     "metadata": {},
     "output_type": "execute_result"
    }
   ],
   "source": [
    "y_probs\n"
   ]
  },
  {
   "cell_type": "code",
   "execution_count": 16,
   "id": "712f6442",
   "metadata": {},
   "outputs": [],
   "source": [
    "y_pred=model.predict(xtest)"
   ]
  },
  {
   "cell_type": "code",
   "execution_count": 17,
   "id": "404459c6",
   "metadata": {},
   "outputs": [],
   "source": [
    "from sklearn.metrics import roc_auc_score,accuracy_score,precision_score,recall_score,f1_score"
   ]
  },
  {
   "cell_type": "code",
   "execution_count": 18,
   "id": "4712e990",
   "metadata": {},
   "outputs": [],
   "source": [
    "roc_auc = roc_auc_score(ytest,y_pred)#receiver operating curve    area under curve\n",
    "#roc and auc are used to evalute the performance of binary classifers"
   ]
  },
  {
   "cell_type": "code",
   "execution_count": 19,
   "id": "abc2248d",
   "metadata": {},
   "outputs": [
    {
     "data": {
      "text/plain": [
       "0.8955506117908787"
      ]
     },
     "execution_count": 19,
     "metadata": {},
     "output_type": "execute_result"
    }
   ],
   "source": [
    "roc_auc"
   ]
  },
  {
   "cell_type": "code",
   "execution_count": 20,
   "id": "51cdef95",
   "metadata": {},
   "outputs": [],
   "source": [
    "accuracy = accuracy_score(ytest,y_pred)"
   ]
  },
  {
   "cell_type": "code",
   "execution_count": 21,
   "id": "d6af2c5c",
   "metadata": {},
   "outputs": [
    {
     "data": {
      "text/plain": [
       "0.8966666666666666"
      ]
     },
     "execution_count": 21,
     "metadata": {},
     "output_type": "execute_result"
    }
   ],
   "source": [
    "accuracy"
   ]
  },
  {
   "cell_type": "code",
   "execution_count": 22,
   "id": "e964d3f0",
   "metadata": {},
   "outputs": [],
   "source": [
    "recall = recall_score(ytest,y_pred)"
   ]
  },
  {
   "cell_type": "code",
   "execution_count": 31,
   "id": "3fe63e84",
   "metadata": {},
   "outputs": [
    {
     "data": {
      "text/plain": [
       "0.8620689655172413"
      ]
     },
     "execution_count": 31,
     "metadata": {},
     "output_type": "execute_result"
    }
   ],
   "source": [
    "recall"
   ]
  },
  {
   "cell_type": "code",
   "execution_count": 32,
   "id": "f8e5d254",
   "metadata": {},
   "outputs": [],
   "source": [
    "precission = precision_score(ytest,y_pred)"
   ]
  },
  {
   "cell_type": "code",
   "execution_count": 33,
   "id": "85aa8508",
   "metadata": {},
   "outputs": [
    {
     "data": {
      "text/plain": [
       "0.9191176470588235"
      ]
     },
     "execution_count": 33,
     "metadata": {},
     "output_type": "execute_result"
    }
   ],
   "source": [
    "precission"
   ]
  },
  {
   "cell_type": "code",
   "execution_count": 34,
   "id": "038fb99b",
   "metadata": {},
   "outputs": [],
   "source": [
    "f1= f1_score(ytest,y_pred)"
   ]
  },
  {
   "cell_type": "code",
   "execution_count": 35,
   "id": "f49f6244",
   "metadata": {},
   "outputs": [
    {
     "data": {
      "text/plain": [
       "0.889679715302491"
      ]
     },
     "execution_count": 35,
     "metadata": {},
     "output_type": "execute_result"
    }
   ],
   "source": [
    "f1"
   ]
  },
  {
   "cell_type": "code",
   "execution_count": 36,
   "id": "3460c5d4",
   "metadata": {},
   "outputs": [],
   "source": [
    "from matplotlib import pyplot as plt"
   ]
  },
  {
   "cell_type": "code",
   "execution_count": 38,
   "id": "6fd9dc40",
   "metadata": {},
   "outputs": [],
   "source": [
    "from sklearn.metrics import roc_curve,auc"
   ]
  },
  {
   "cell_type": "code",
   "execution_count": 39,
   "id": "3fca07ca",
   "metadata": {},
   "outputs": [],
   "source": [
    "fpr,tpr,threshold = roc_curve(ytest,y_probs)"
   ]
  },
  {
   "cell_type": "code",
   "execution_count": 40,
   "id": "21fa62bb",
   "metadata": {
    "collapsed": true
   },
   "outputs": [
    {
     "data": {
      "text/plain": [
       "array([0.        , 0.        , 0.        , 0.00645161, 0.00645161,\n",
       "       0.01290323, 0.01290323, 0.03225806, 0.03225806, 0.03870968,\n",
       "       0.03870968, 0.04516129, 0.04516129, 0.0516129 , 0.0516129 ,\n",
       "       0.05806452, 0.05806452, 0.06451613, 0.06451613, 0.07096774,\n",
       "       0.07096774, 0.09032258, 0.09032258, 0.09677419, 0.09677419,\n",
       "       0.10322581, 0.10322581, 0.12903226, 0.12903226, 0.13548387,\n",
       "       0.13548387, 0.16774194, 0.16774194, 0.22580645, 0.22580645,\n",
       "       0.33548387, 0.33548387, 0.35483871, 0.35483871, 0.37419355,\n",
       "       0.37419355, 0.41290323, 0.41290323, 0.56129032, 0.56129032,\n",
       "       0.57419355, 0.57419355, 0.97419355, 0.97419355, 0.98064516,\n",
       "       0.98064516, 1.        ])"
      ]
     },
     "execution_count": 40,
     "metadata": {},
     "output_type": "execute_result"
    }
   ],
   "source": [
    "fpr"
   ]
  },
  {
   "cell_type": "code",
   "execution_count": 41,
   "id": "6084ffd1",
   "metadata": {
    "collapsed": true
   },
   "outputs": [
    {
     "data": {
      "text/plain": [
       "array([0.        , 0.00689655, 0.44137931, 0.44137931, 0.63448276,\n",
       "       0.63448276, 0.71034483, 0.71034483, 0.73103448, 0.73103448,\n",
       "       0.76551724, 0.76551724, 0.77931034, 0.77931034, 0.79310345,\n",
       "       0.79310345, 0.8       , 0.8       , 0.80689655, 0.80689655,\n",
       "       0.86206897, 0.86206897, 0.87586207, 0.87586207, 0.89655172,\n",
       "       0.89655172, 0.90344828, 0.90344828, 0.91034483, 0.91034483,\n",
       "       0.91724138, 0.91724138, 0.93103448, 0.93103448, 0.93793103,\n",
       "       0.93793103, 0.94482759, 0.94482759, 0.95172414, 0.95172414,\n",
       "       0.96551724, 0.96551724, 0.97241379, 0.97241379, 0.97931034,\n",
       "       0.97931034, 0.9862069 , 0.9862069 , 0.99310345, 0.99310345,\n",
       "       1.        , 1.        ])"
      ]
     },
     "execution_count": 41,
     "metadata": {},
     "output_type": "execute_result"
    }
   ],
   "source": [
    "tpr"
   ]
  },
  {
   "cell_type": "code",
   "execution_count": 42,
   "id": "cbe68410",
   "metadata": {
    "collapsed": true
   },
   "outputs": [
    {
     "data": {
      "text/plain": [
       "array([1.99997359e+00, 9.99973588e-01, 9.61801297e-01, 9.58448360e-01,\n",
       "       8.56927087e-01, 8.55998114e-01, 8.01938304e-01, 7.81942328e-01,\n",
       "       7.58980228e-01, 7.42125350e-01, 7.15172964e-01, 7.05115784e-01,\n",
       "       6.57270174e-01, 6.53771462e-01, 6.34679680e-01, 6.34572358e-01,\n",
       "       6.30173279e-01, 6.16047295e-01, 6.06981909e-01, 6.04728982e-01,\n",
       "       5.15669559e-01, 4.77375210e-01, 4.59598145e-01, 4.55555378e-01,\n",
       "       4.37901244e-01, 4.36171417e-01, 4.27437477e-01, 3.91577520e-01,\n",
       "       3.65820222e-01, 3.49009475e-01, 3.48285978e-01, 3.14529180e-01,\n",
       "       3.07080584e-01, 2.67752053e-01, 2.66734824e-01, 1.95790574e-01,\n",
       "       1.93145588e-01, 1.87387779e-01, 1.86828930e-01, 1.70298167e-01,\n",
       "       1.69612753e-01, 1.63136154e-01, 1.62753422e-01, 9.69568492e-02,\n",
       "       9.42482403e-02, 8.82928691e-02, 8.69085980e-02, 5.81430251e-03,\n",
       "       5.25834860e-03, 4.28228509e-03, 3.59812762e-03, 6.53015684e-05])"
      ]
     },
     "execution_count": 42,
     "metadata": {},
     "output_type": "execute_result"
    }
   ],
   "source": [
    "threshold"
   ]
  },
  {
   "cell_type": "code",
   "execution_count": 49,
   "id": "2293ba91",
   "metadata": {},
   "outputs": [
    {
     "data": {
      "image/png": "[encoded data removed]",
      "text/plain": [
       "<Figure size 432x288 with 1 Axes>"
      ]
     },
     "metadata": {
      "needs_background": "light"
     },
     "output_type": "display_data"
    }
   ],
   "source": [
    "#ploting the roc\n",
    "\n",
    "roc_auc = auc(fpr, tpr)\n",
    "# Plot the ROC curve\n",
    "plt.figure()  \n",
    "plt.plot(fpr, tpr, color='darkorange' ,lw = 2,label='ROC curve (area = %0.2f)' % roc_auc)\n",
    "plt.plot([0, 1], [0, 1], color='navy' , lw = 2, linestyle ='--')\n",
    "plt.xlim([0.0, 1.0])\n",
    "plt.ylim([0.0, 1.05])\n",
    "plt.xlabel('False Positive Rate')\n",
    "plt.ylabel('True Positive Rate')\n",
    "plt.title('Roc Curve')\n",
    "plt.legend()\n",
    "plt.show()\n",
    "\n"
   ]
  },
  {
   "cell_type": "code",
   "execution_count": null,
   "id": "31a92e82",
   "metadata": {},
   "outputs": [],
   "source": []
  }
 ],
 "metadata": {
  "kernelspec": {
   "display_name": "Python 3",
   "language": "python",
   "name": "python3"
  },
  "language_info": {
   "codemirror_mode": {
    "name": "ipython",
    "version": 3
   },
   "file_extension": ".py",
   "mimetype": "text/x-python",
   "name": "python",
   "nbconvert_exporter": "python",
   "pygments_lexer": "ipython3",
   "version": "3.8.8"
  }
 },
 "nbformat": 4,
 "nbformat_minor": 5
}
