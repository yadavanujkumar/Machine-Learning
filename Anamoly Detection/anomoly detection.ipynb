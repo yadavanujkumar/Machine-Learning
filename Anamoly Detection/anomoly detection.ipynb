{
 "cells": [
  {
   "cell_type": "code",
   "execution_count": 1,
   "id": "a8f57a7c",
   "metadata": {},
   "outputs": [],
   "source": [
    "import pandas as pd\n",
    "import numpy as np\n",
    "import matplotlib.pyplot as plt\n",
    "from faker import Faker"
   ]
  },
  {
   "cell_type": "code",
   "execution_count": 2,
   "id": "516b048a",
   "metadata": {},
   "outputs": [],
   "source": [
    "fake=Faker()\n",
    "Faker.seed(4321)\n",
    "names_list=[]\n",
    "for i in range(100):\n",
    "    names_list.append(fake.name())"
   ]
  },
  {
   "cell_type": "code",
   "execution_count": 3,
   "id": "db080dc3",
   "metadata": {},
   "outputs": [
    {
     "data": {
      "text/plain": [
       "['Jason Brown',\n",
       " 'Jacob Stein',\n",
       " 'Cody Brown',\n",
       " 'Larry Morales',\n",
       " 'Jessica Hendricks',\n",
       " 'Brian Moore',\n",
       " 'Scott Baker',\n",
       " 'Ruth Hoffman',\n",
       " 'Daniel George',\n",
       " 'David Moody',\n",
       " 'Brian Maxwell',\n",
       " 'Cory Cooper',\n",
       " 'Morgan Foster',\n",
       " 'James Sandoval',\n",
       " 'Brian Lester',\n",
       " 'Anne Davis',\n",
       " 'Miss Amanda Harris MD',\n",
       " 'Amy Dunn',\n",
       " 'Brian Lee',\n",
       " 'Kimberly Pratt',\n",
       " 'Russell Yang',\n",
       " 'Renee Fisher',\n",
       " 'Rebecca Castro',\n",
       " 'Robert Yoder',\n",
       " 'Todd Young',\n",
       " 'John Houston',\n",
       " 'Matthew Valdez',\n",
       " 'Gary Nguyen',\n",
       " 'Alexander Poole',\n",
       " 'Dean Welch',\n",
       " 'Andrew Perez',\n",
       " 'Brian Porter',\n",
       " 'Aaron Walker',\n",
       " 'Lisa Wilson',\n",
       " 'Brian Miller',\n",
       " 'Nicholas Evans',\n",
       " 'Jessica Hernandez',\n",
       " 'Teresa Haynes',\n",
       " 'Angela Maynard',\n",
       " 'Stephanie Gregory',\n",
       " 'Phyllis Hess',\n",
       " 'Stephen Martin',\n",
       " 'Emily Blair',\n",
       " 'Hannah Holland',\n",
       " 'Adam Hoffman',\n",
       " 'Holly Roberts',\n",
       " 'Jeffrey Brown',\n",
       " 'Sarah Keith',\n",
       " 'Sean Weeks',\n",
       " 'Tony Lloyd',\n",
       " 'Caleb Davidson',\n",
       " 'Andrew Patterson',\n",
       " 'Joshua Ellis',\n",
       " 'Cassandra Lewis',\n",
       " 'Sabrina Wallace',\n",
       " 'Derek Allison',\n",
       " 'Taylor Dawson',\n",
       " 'Allison Yoder',\n",
       " 'Jo Brown',\n",
       " 'Jennifer Mcdowell',\n",
       " 'Matthew Fry',\n",
       " 'Jose Nolan',\n",
       " 'Richard Meza',\n",
       " 'Michael Moore PhD',\n",
       " 'Philip Anderson',\n",
       " 'Joyce Bishop',\n",
       " 'Patricia Ali',\n",
       " 'Raymond Galvan',\n",
       " 'Corey Green',\n",
       " 'Dr. Robert White',\n",
       " 'Joseph Copeland',\n",
       " 'Matthew King',\n",
       " 'Jonathan Francis',\n",
       " 'Carmen Hardy',\n",
       " 'Kendra Andersen',\n",
       " 'Jennifer Welch',\n",
       " 'Heather Ryan',\n",
       " 'Jeff Hays',\n",
       " 'Chloe Marshall',\n",
       " 'Kimberly Blair',\n",
       " 'Frederick Ramirez',\n",
       " 'Ariel Williams',\n",
       " 'Jim Thompson',\n",
       " 'Melissa Walker',\n",
       " 'Mason Williams',\n",
       " 'Nathan Jackson',\n",
       " 'Angela Howard',\n",
       " 'Derrick Santiago',\n",
       " 'Carrie Craig',\n",
       " 'Sean Powell',\n",
       " 'Thomas Garcia',\n",
       " 'Katherine Davis',\n",
       " 'Jennifer Berry',\n",
       " 'David Lewis',\n",
       " 'Linda Smith',\n",
       " 'Robert Garrett',\n",
       " 'Parker Kent',\n",
       " 'Michelle Logan',\n",
       " 'Beverly Baker DVM',\n",
       " 'James Decker']"
      ]
     },
     "execution_count": 3,
     "metadata": {},
     "output_type": "execute_result"
    }
   ],
   "source": [
    "names_list"
   ]
  },
  {
   "cell_type": "code",
   "execution_count": 9,
   "id": "c6f6922f",
   "metadata": {},
   "outputs": [],
   "source": [
    "np.random.seed(7)\n",
    "salaries=[]\n",
    "for i in range(100):\n",
    "    salary=np.random.randint(1000,2500)\n",
    "    salaries.append(salary)"
   ]
  },
  {
   "cell_type": "code",
   "execution_count": 10,
   "id": "6ca81c0f",
   "metadata": {},
   "outputs": [
    {
     "data": {
      "text/html": [
       "<div>\n",
       "<style scoped>\n",
       "    .dataframe tbody tr th:only-of-type {\n",
       "        vertical-align: middle;\n",
       "    }\n",
       "\n",
       "    .dataframe tbody tr th {\n",
       "        vertical-align: top;\n",
       "    }\n",
       "\n",
       "    .dataframe thead th {\n",
       "        text-align: right;\n",
       "    }\n",
       "</style>\n",
       "<table border=\"1\" class=\"dataframe\">\n",
       "  <thead>\n",
       "    <tr style=\"text-align: right;\">\n",
       "      <th></th>\n",
       "      <th>person</th>\n",
       "      <th>salary</th>\n",
       "    </tr>\n",
       "  </thead>\n",
       "  <tbody>\n",
       "    <tr>\n",
       "      <th>0</th>\n",
       "      <td>Jason Brown</td>\n",
       "      <td>1175</td>\n",
       "    </tr>\n",
       "    <tr>\n",
       "      <th>1</th>\n",
       "      <td>Jacob Stein</td>\n",
       "      <td>2220</td>\n",
       "    </tr>\n",
       "    <tr>\n",
       "      <th>2</th>\n",
       "      <td>Cody Brown</td>\n",
       "      <td>1537</td>\n",
       "    </tr>\n",
       "  </tbody>\n",
       "</table>\n",
       "</div>"
      ],
      "text/plain": [
       "        person  salary\n",
       "0  Jason Brown    1175\n",
       "1  Jacob Stein    2220\n",
       "2   Cody Brown    1537"
      ]
     },
     "execution_count": 10,
     "metadata": {},
     "output_type": "execute_result"
    }
   ],
   "source": [
    "df=pd.DataFrame({'person':names_list,'salary':salaries})\n",
    "df.head(3)"
   ]
  },
  {
   "cell_type": "code",
   "execution_count": 11,
   "id": "e699392e",
   "metadata": {},
   "outputs": [
    {
     "name": "stdout",
     "output_type": "stream",
     "text": [
      "person    Miss Amanda Harris MD\n",
      "salary                       23\n",
      "Name: 16, dtype: object\n",
      "person    Joyce Bishop\n",
      "salary              17\n",
      "Name: 65, dtype: object\n"
     ]
    }
   ],
   "source": [
    "df.at[16,'salary']=23\n",
    "df.at[65,'salary']=17\n",
    "print(df.loc[16])\n",
    "print(df.loc[65])"
   ]
  },
  {
   "cell_type": "code",
   "execution_count": 12,
   "id": "29833444",
   "metadata": {},
   "outputs": [
    {
     "data": {
      "text/plain": [
       "<AxesSubplot:>"
      ]
     },
     "execution_count": 12,
     "metadata": {},
     "output_type": "execute_result"
    },
    {
     "data": {
      "image/png": "[encoded data removed]",
      "text/plain": [
       "<Figure size 432x288 with 1 Axes>"
      ]
     },
     "metadata": {
      "needs_background": "light"
     },
     "output_type": "display_data"
    }
   ],
   "source": [
    "df['salary'].plot(kind='box')"
   ]
  },
  {
   "cell_type": "code",
   "execution_count": 13,
   "id": "a7b6bb78",
   "metadata": {},
   "outputs": [
    {
     "data": {
      "text/plain": [
       "<AxesSubplot:ylabel='Frequency'>"
      ]
     },
     "execution_count": 13,
     "metadata": {},
     "output_type": "execute_result"
    },
    {
     "data": {
      "image/png": "[encoded data removed]",
      "text/plain": [
       "<Figure size 432x288 with 1 Axes>"
      ]
     },
     "metadata": {
      "needs_background": "light"
     },
     "output_type": "display_data"
    }
   ],
   "source": [
    "df['salary'].plot(kind='hist')"
   ]
  },
  {
   "cell_type": "code",
   "execution_count": 14,
   "id": "6a4397d0",
   "metadata": {},
   "outputs": [
    {
     "data": {
      "text/plain": [
       "array([1175, 2220, 1537, 1502, 1211, 1919, 2372, 2209, 2422, 1535, 1345,\n",
       "       1366, 1554, 1730, 1904, 2191,   23, 2456, 1391, 1940, 2099, 1823,\n",
       "       1250, 2030, 2468, 2068, 2349, 2176, 1183, 1949, 2136, 1763, 2213,\n",
       "       1290, 1312, 1201, 2486, 1550, 1772, 1494, 2161, 2219, 2096, 1944,\n",
       "       1257, 1400, 2398, 2373, 1940, 1604, 1764, 1279, 1745, 1803, 2472,\n",
       "       2341, 2415, 2175, 1092, 1759, 2248, 1356, 1931, 1481, 1579,   17,\n",
       "       1481, 2043, 1923, 1787, 1033, 2147, 2310, 1741, 1989, 2439, 2154,\n",
       "       2107, 1402, 1021, 1203, 1047, 1784, 1524, 1349, 1107, 1393, 1844,\n",
       "       1622, 1654, 1636, 1276, 1309, 1827, 1035, 1260, 1456, 2498, 2007,\n",
       "       2239], dtype=int64)"
      ]
     },
     "execution_count": 14,
     "metadata": {},
     "output_type": "execute_result"
    }
   ],
   "source": [
    "raw_salary=df['salary'].values\n",
    "raw_salary"
   ]
  },
  {
   "cell_type": "code",
   "execution_count": 15,
   "id": "3d2e4226",
   "metadata": {},
   "outputs": [
    {
     "data": {
      "text/plain": [
       "array([[1175],\n",
       "       [2220],\n",
       "       [1537],\n",
       "       [1502],\n",
       "       [1211],\n",
       "       [1919],\n",
       "       [2372],\n",
       "       [2209],\n",
       "       [2422],\n",
       "       [1535],\n",
       "       [1345],\n",
       "       [1366],\n",
       "       [1554],\n",
       "       [1730],\n",
       "       [1904],\n",
       "       [2191],\n",
       "       [  23],\n",
       "       [2456],\n",
       "       [1391],\n",
       "       [1940],\n",
       "       [2099],\n",
       "       [1823],\n",
       "       [1250],\n",
       "       [2030],\n",
       "       [2468],\n",
       "       [2068],\n",
       "       [2349],\n",
       "       [2176],\n",
       "       [1183],\n",
       "       [1949],\n",
       "       [2136],\n",
       "       [1763],\n",
       "       [2213],\n",
       "       [1290],\n",
       "       [1312],\n",
       "       [1201],\n",
       "       [2486],\n",
       "       [1550],\n",
       "       [1772],\n",
       "       [1494],\n",
       "       [2161],\n",
       "       [2219],\n",
       "       [2096],\n",
       "       [1944],\n",
       "       [1257],\n",
       "       [1400],\n",
       "       [2398],\n",
       "       [2373],\n",
       "       [1940],\n",
       "       [1604],\n",
       "       [1764],\n",
       "       [1279],\n",
       "       [1745],\n",
       "       [1803],\n",
       "       [2472],\n",
       "       [2341],\n",
       "       [2415],\n",
       "       [2175],\n",
       "       [1092],\n",
       "       [1759],\n",
       "       [2248],\n",
       "       [1356],\n",
       "       [1931],\n",
       "       [1481],\n",
       "       [1579],\n",
       "       [  17],\n",
       "       [1481],\n",
       "       [2043],\n",
       "       [1923],\n",
       "       [1787],\n",
       "       [1033],\n",
       "       [2147],\n",
       "       [2310],\n",
       "       [1741],\n",
       "       [1989],\n",
       "       [2439],\n",
       "       [2154],\n",
       "       [2107],\n",
       "       [1402],\n",
       "       [1021],\n",
       "       [1203],\n",
       "       [1047],\n",
       "       [1784],\n",
       "       [1524],\n",
       "       [1349],\n",
       "       [1107],\n",
       "       [1393],\n",
       "       [1844],\n",
       "       [1622],\n",
       "       [1654],\n",
       "       [1636],\n",
       "       [1276],\n",
       "       [1309],\n",
       "       [1827],\n",
       "       [1035],\n",
       "       [1260],\n",
       "       [1456],\n",
       "       [2498],\n",
       "       [2007],\n",
       "       [2239]], dtype=int64)"
      ]
     },
     "execution_count": 15,
     "metadata": {},
     "output_type": "execute_result"
    }
   ],
   "source": [
    "raw_salary=raw_salary.reshape(-1,1)\n",
    "raw_salary"
   ]
  },
  {
   "cell_type": "code",
   "execution_count": 16,
   "id": "231ca759",
   "metadata": {},
   "outputs": [
    {
     "data": {
      "text/plain": [
       "array([[1175.],\n",
       "       [2220.],\n",
       "       [1537.],\n",
       "       [1502.],\n",
       "       [1211.],\n",
       "       [1919.],\n",
       "       [2372.],\n",
       "       [2209.],\n",
       "       [2422.],\n",
       "       [1535.],\n",
       "       [1345.],\n",
       "       [1366.],\n",
       "       [1554.],\n",
       "       [1730.],\n",
       "       [1904.],\n",
       "       [2191.],\n",
       "       [  23.],\n",
       "       [2456.],\n",
       "       [1391.],\n",
       "       [1940.],\n",
       "       [2099.],\n",
       "       [1823.],\n",
       "       [1250.],\n",
       "       [2030.],\n",
       "       [2468.],\n",
       "       [2068.],\n",
       "       [2349.],\n",
       "       [2176.],\n",
       "       [1183.],\n",
       "       [1949.],\n",
       "       [2136.],\n",
       "       [1763.],\n",
       "       [2213.],\n",
       "       [1290.],\n",
       "       [1312.],\n",
       "       [1201.],\n",
       "       [2486.],\n",
       "       [1550.],\n",
       "       [1772.],\n",
       "       [1494.],\n",
       "       [2161.],\n",
       "       [2219.],\n",
       "       [2096.],\n",
       "       [1944.],\n",
       "       [1257.],\n",
       "       [1400.],\n",
       "       [2398.],\n",
       "       [2373.],\n",
       "       [1940.],\n",
       "       [1604.],\n",
       "       [1764.],\n",
       "       [1279.],\n",
       "       [1745.],\n",
       "       [1803.],\n",
       "       [2472.],\n",
       "       [2341.],\n",
       "       [2415.],\n",
       "       [2175.],\n",
       "       [1092.],\n",
       "       [1759.],\n",
       "       [2248.],\n",
       "       [1356.],\n",
       "       [1931.],\n",
       "       [1481.],\n",
       "       [1579.],\n",
       "       [  17.],\n",
       "       [1481.],\n",
       "       [2043.],\n",
       "       [1923.],\n",
       "       [1787.],\n",
       "       [1033.],\n",
       "       [2147.],\n",
       "       [2310.],\n",
       "       [1741.],\n",
       "       [1989.],\n",
       "       [2439.],\n",
       "       [2154.],\n",
       "       [2107.],\n",
       "       [1402.],\n",
       "       [1021.],\n",
       "       [1203.],\n",
       "       [1047.],\n",
       "       [1784.],\n",
       "       [1524.],\n",
       "       [1349.],\n",
       "       [1107.],\n",
       "       [1393.],\n",
       "       [1844.],\n",
       "       [1622.],\n",
       "       [1654.],\n",
       "       [1636.],\n",
       "       [1276.],\n",
       "       [1309.],\n",
       "       [1827.],\n",
       "       [1035.],\n",
       "       [1260.],\n",
       "       [1456.],\n",
       "       [2498.],\n",
       "       [2007.],\n",
       "       [2239.]])"
      ]
     },
     "execution_count": 16,
     "metadata": {},
     "output_type": "execute_result"
    }
   ],
   "source": [
    "raw_salary=raw_salary.astype('float64')\n",
    "raw_salary"
   ]
  },
  {
   "cell_type": "code",
   "execution_count": 17,
   "id": "3d16e280",
   "metadata": {},
   "outputs": [],
   "source": [
    "from sklearn.cluster import KMeans\n"
   ]
  },
  {
   "cell_type": "code",
   "execution_count": 18,
   "id": "084473cf",
   "metadata": {},
   "outputs": [],
   "source": [
    "cm=KMeans(n_clusters=4)"
   ]
  },
  {
   "cell_type": "code",
   "execution_count": 19,
   "id": "a79e2306",
   "metadata": {},
   "outputs": [
    {
     "name": "stderr",
     "output_type": "stream",
     "text": [
      "C:\\Users\\CompLab05\\anaconda3\\lib\\site-packages\\sklearn\\cluster\\_kmeans.py:1416: FutureWarning: The default value of `n_init` will change from 10 to 'auto' in 1.4. Set the value of `n_init` explicitly to suppress the warning\n",
      "  super()._check_params_vs_input(X, default_n_init=10)\n",
      "C:\\Users\\CompLab05\\anaconda3\\lib\\site-packages\\sklearn\\cluster\\_kmeans.py:1440: UserWarning: KMeans is known to have a memory leak on Windows with MKL, when there are less chunks than available threads. You can avoid it by setting the environment variable OMP_NUM_THREADS=1.\n",
      "  warnings.warn(\n"
     ]
    },
    {
     "data": {
      "text/html": [
       "<style>#sk-container-id-1 {color: black;}#sk-container-id-1 pre{padding: 0;}#sk-container-id-1 div.sk-toggleable {background-color: white;}#sk-container-id-1 label.sk-toggleable__label {cursor: pointer;display: block;width: 100%;margin-bottom: 0;padding: 0.3em;box-sizing: border-box;text-align: center;}#sk-container-id-1 label.sk-toggleable__label-arrow:before {content: \"▸\";float: left;margin-right: 0.25em;color: #696969;}#sk-container-id-1 label.sk-toggleable__label-arrow:hover:before {color: black;}#sk-container-id-1 div.sk-estimator:hover label.sk-toggleable__label-arrow:before {color: black;}#sk-container-id-1 div.sk-toggleable__content {max-height: 0;max-width: 0;overflow: hidden;text-align: left;background-color: #f0f8ff;}#sk-container-id-1 div.sk-toggleable__content pre {margin: 0.2em;color: black;border-radius: 0.25em;background-color: #f0f8ff;}#sk-container-id-1 input.sk-toggleable__control:checked~div.sk-toggleable__content {max-height: 200px;max-width: 100%;overflow: auto;}#sk-container-id-1 input.sk-toggleable__control:checked~label.sk-toggleable__label-arrow:before {content: \"▾\";}#sk-container-id-1 div.sk-estimator input.sk-toggleable__control:checked~label.sk-toggleable__label {background-color: #d4ebff;}#sk-container-id-1 div.sk-label input.sk-toggleable__control:checked~label.sk-toggleable__label {background-color: #d4ebff;}#sk-container-id-1 input.sk-hidden--visually {border: 0;clip: rect(1px 1px 1px 1px);clip: rect(1px, 1px, 1px, 1px);height: 1px;margin: -1px;overflow: hidden;padding: 0;position: absolute;width: 1px;}#sk-container-id-1 div.sk-estimator {font-family: monospace;background-color: #f0f8ff;border: 1px dotted black;border-radius: 0.25em;box-sizing: border-box;margin-bottom: 0.5em;}#sk-container-id-1 div.sk-estimator:hover {background-color: #d4ebff;}#sk-container-id-1 div.sk-parallel-item::after {content: \"\";width: 100%;border-bottom: 1px solid gray;flex-grow: 1;}#sk-container-id-1 div.sk-label:hover label.sk-toggleable__label {background-color: #d4ebff;}#sk-container-id-1 div.sk-serial::before {content: \"\";position: absolute;border-left: 1px solid gray;box-sizing: border-box;top: 0;bottom: 0;left: 50%;z-index: 0;}#sk-container-id-1 div.sk-serial {display: flex;flex-direction: column;align-items: center;background-color: white;padding-right: 0.2em;padding-left: 0.2em;position: relative;}#sk-container-id-1 div.sk-item {position: relative;z-index: 1;}#sk-container-id-1 div.sk-parallel {display: flex;align-items: stretch;justify-content: center;background-color: white;position: relative;}#sk-container-id-1 div.sk-item::before, #sk-container-id-1 div.sk-parallel-item::before {content: \"\";position: absolute;border-left: 1px solid gray;box-sizing: border-box;top: 0;bottom: 0;left: 50%;z-index: -1;}#sk-container-id-1 div.sk-parallel-item {display: flex;flex-direction: column;z-index: 1;position: relative;background-color: white;}#sk-container-id-1 div.sk-parallel-item:first-child::after {align-self: flex-end;width: 50%;}#sk-container-id-1 div.sk-parallel-item:last-child::after {align-self: flex-start;width: 50%;}#sk-container-id-1 div.sk-parallel-item:only-child::after {width: 0;}#sk-container-id-1 div.sk-dashed-wrapped {border: 1px dashed gray;margin: 0 0.4em 0.5em 0.4em;box-sizing: border-box;padding-bottom: 0.4em;background-color: white;}#sk-container-id-1 div.sk-label label {font-family: monospace;font-weight: bold;display: inline-block;line-height: 1.2em;}#sk-container-id-1 div.sk-label-container {text-align: center;}#sk-container-id-1 div.sk-container {/* jupyter's `normalize.less` sets `[hidden] { display: none; }` but bootstrap.min.css set `[hidden] { display: none !important; }` so we also need the `!important` here to be able to override the default hidden behavior on the sphinx rendered scikit-learn.org. See: https://github.com/scikit-learn/scikit-learn/issues/21755 */display: inline-block !important;position: relative;}#sk-container-id-1 div.sk-text-repr-fallback {display: none;}</style><div id=\"sk-container-id-1\" class=\"sk-top-container\"><div class=\"sk-text-repr-fallback\"><pre>KMeans(n_clusters=4)</pre><b>In a Jupyter environment, please rerun this cell to show the HTML representation or trust the notebook. <br />On GitHub, the HTML representation is unable to render, please try loading this page with nbviewer.org.</b></div><div class=\"sk-container\" hidden><div class=\"sk-item\"><div class=\"sk-estimator sk-toggleable\"><input class=\"sk-toggleable__control sk-hidden--visually\" id=\"sk-estimator-id-1\" type=\"checkbox\" checked><label for=\"sk-estimator-id-1\" class=\"sk-toggleable__label sk-toggleable__label-arrow\">KMeans</label><div class=\"sk-toggleable__content\"><pre>KMeans(n_clusters=4)</pre></div></div></div></div></div>"
      ],
      "text/plain": [
       "KMeans(n_clusters=4)"
      ]
     },
     "execution_count": 19,
     "metadata": {},
     "output_type": "execute_result"
    }
   ],
   "source": [
    "cm.fit(raw_salary)"
   ]
  },
  {
   "cell_type": "code",
   "execution_count": 20,
   "id": "3d22f486",
   "metadata": {},
   "outputs": [],
   "source": [
    "cm_labels=cm.labels_"
   ]
  },
  {
   "cell_type": "code",
   "execution_count": 21,
   "id": "386059c4",
   "metadata": {},
   "outputs": [
    {
     "data": {
      "text/plain": [
       "<matplotlib.collections.PathCollection at 0x23740a6f160>"
      ]
     },
     "execution_count": 21,
     "metadata": {},
     "output_type": "execute_result"
    },
    {
     "data": {
      "image/png": "[encoded data removed]",
      "text/plain": [
       "<Figure size 432x288 with 1 Axes>"
      ]
     },
     "metadata": {
      "needs_background": "light"
     },
     "output_type": "display_data"
    }
   ],
   "source": [
    "plt.scatter(raw_salary,np.arange(0,100),c=cm_labels)"
   ]
  },
  {
   "cell_type": "code",
   "execution_count": 22,
   "id": "c3664d07",
   "metadata": {},
   "outputs": [
    {
     "data": {
      "text/plain": [
       "0     0\n",
       "1     0\n",
       "2     0\n",
       "3     0\n",
       "4     0\n",
       "     ..\n",
       "95    0\n",
       "96    0\n",
       "97    0\n",
       "98    0\n",
       "99    0\n",
       "Name: class, Length: 100, dtype: int64"
      ]
     },
     "execution_count": 22,
     "metadata": {},
     "output_type": "execute_result"
    }
   ],
   "source": [
    "df['class']=0\n",
    "df['class']"
   ]
  },
  {
   "cell_type": "code",
   "execution_count": 23,
   "id": "de6d8bda",
   "metadata": {},
   "outputs": [],
   "source": [
    "df.at[16,'class']=1\n",
    "df.at[65,'class']=1"
   ]
  },
  {
   "cell_type": "code",
   "execution_count": 24,
   "id": "b7e2bfe9",
   "metadata": {},
   "outputs": [
    {
     "data": {
      "text/plain": [
       "array([0, 0, 0, 0, 0, 0, 0, 0, 0, 0, 0, 0, 0, 0, 0, 0, 1, 0, 0, 0, 0, 0,\n",
       "       0, 0, 0, 0, 0, 0, 0, 0, 0, 0, 0, 0, 0, 0, 0, 0, 0, 0, 0, 0, 0, 0,\n",
       "       0, 0, 0, 0, 0, 0, 0, 0, 0, 0, 0, 0, 0, 0, 0, 0, 0, 0, 0, 0, 0, 1,\n",
       "       0, 0, 0, 0, 0, 0, 0, 0, 0, 0, 0, 0, 0, 0, 0, 0, 0, 0, 0, 0, 0, 0,\n",
       "       0, 0, 0, 0, 0, 0, 0, 0, 0, 0, 0, 0], dtype=int64)"
      ]
     },
     "execution_count": 24,
     "metadata": {},
     "output_type": "execute_result"
    }
   ],
   "source": [
    "df['class'].values"
   ]
  },
  {
   "cell_type": "code",
   "execution_count": 25,
   "id": "799ea823",
   "metadata": {},
   "outputs": [],
   "source": [
    "from pyod.models.knn import KNN"
   ]
  },
  {
   "cell_type": "code",
   "execution_count": 26,
   "id": "a0bd7e80",
   "metadata": {},
   "outputs": [],
   "source": [
    "X=df['salary'].values.reshape(-1,1)"
   ]
  },
  {
   "cell_type": "code",
   "execution_count": 27,
   "id": "ef02f7c4",
   "metadata": {},
   "outputs": [],
   "source": [
    "y=df['class'].values"
   ]
  },
  {
   "cell_type": "code",
   "execution_count": 28,
   "id": "5f0b9398",
   "metadata": {},
   "outputs": [
    {
     "data": {
      "text/plain": [
       "KNN(algorithm='auto', contamination=0.02, leaf_size=30, method='largest',\n",
       "  metric='minkowski', metric_params=None, n_jobs=1, n_neighbors=5, p=2,\n",
       "  radius=1.0)"
      ]
     },
     "execution_count": 28,
     "metadata": {},
     "output_type": "execute_result"
    }
   ],
   "source": [
    "clf=KNN(contamination=0.02,n_neighbors=5)\n",
    "clf.fit(X)"
   ]
  },
  {
   "cell_type": "code",
   "execution_count": 29,
   "id": "01e6959b",
   "metadata": {},
   "outputs": [],
   "source": [
    "y_train_scores=clf.decision_scores_"
   ]
  },
  {
   "cell_type": "code",
   "execution_count": 30,
   "id": "a8f4057a",
   "metadata": {},
   "outputs": [
    {
     "data": {
      "text/plain": [
       "array([  68.,   28.,   35.,   33.,   39.,   21.,   43.,   30.,   46.,\n",
       "         33.,   36.,   27.,   30.,   34.,   36.,   28., 1024.,   34.,\n",
       "         35.,   17.,   48.,   39.,   39.,   66.,   30.,   39.,   49.,\n",
       "         29.,   67.,   26.,   37.,   21.,   26.,   30.,   36.,   49.,\n",
       "         47.,   29.,   15.,   38.,   25.,   28.,   51.,   21.,   33.,\n",
       "         44.,   41.,   42.,   17.,   50.,   20.,   29.,   19.,   31.,\n",
       "         33.,   57.,   42.,   28.,   71.,   18.,   39.,   37.,   13.,\n",
       "         43.,   43., 1030.,   43.,   54.,   19.,   24.,   74.,   29.,\n",
       "         63.,   23.,   49.,   33.,   22.,   40.,   46.,   86.,   47.,\n",
       "         60.,   21.,   30.,   40.,   74.,   37.,   60.,   68.,   76.,\n",
       "         82.,   26.,   36.,   43.,   72.,   30.,   54.,   59.,   61.,\n",
       "         30.])"
      ]
     },
     "execution_count": 30,
     "metadata": {},
     "output_type": "execute_result"
    }
   ],
   "source": [
    "y_train_scores"
   ]
  },
  {
   "cell_type": "code",
   "execution_count": 31,
   "id": "b6359995",
   "metadata": {},
   "outputs": [
    {
     "data": {
      "text/plain": [
       "array([1])"
      ]
     },
     "execution_count": 31,
     "metadata": {},
     "output_type": "execute_result"
    }
   ],
   "source": [
    "x_test=np.array([[35.]])\n",
    "clf.predict(x_test)"
   ]
  },
  {
   "cell_type": "code",
   "execution_count": 32,
   "id": "97995d8e",
   "metadata": {},
   "outputs": [
    {
     "data": {
      "text/plain": [
       "array([0])"
      ]
     },
     "execution_count": 32,
     "metadata": {},
     "output_type": "execute_result"
    }
   ],
   "source": [
    "x_test2=np.array([[1005.]])\n",
    "clf.predict(x_test2)"
   ]
  },
  {
   "cell_type": "code",
   "execution_count": null,
   "id": "f19693c7",
   "metadata": {},
   "outputs": [],
   "source": []
  }
 ],
 "metadata": {
  "kernelspec": {
   "display_name": "Python 3",
   "language": "python",
   "name": "python3"
  },
  "language_info": {
   "codemirror_mode": {
    "name": "ipython",
    "version": 3
   },
   "file_extension": ".py",
   "mimetype": "text/x-python",
   "name": "python",
   "nbconvert_exporter": "python",
   "pygments_lexer": "ipython3",
   "version": "3.8.8"
  }
 },
 "nbformat": 4,
 "nbformat_minor": 5
}
